{
 "cells": [
  {
   "cell_type": "markdown",
   "metadata": {},
   "source": [
    "1. Функція гіпотези лінійної регресії у векторному вигляді"
   ]
  },
  {
   "cell_type": "code",
   "execution_count": 6,
   "metadata": {},
   "outputs": [],
   "source": [
    "import numpy as np\n",
    "from sklearn.linear_model import LinearRegression\n",
    "\n",
    "def hypothesis(X, w):\n",
    "    return np.dot(X, w)"
   ]
  },
  {
   "cell_type": "markdown",
   "metadata": {},
   "source": [
    "2.  Функція для обчислення функції втрат у векторному вигляді"
   ]
  },
  {
   "cell_type": "code",
   "execution_count": 12,
   "metadata": {},
   "outputs": [],
   "source": [
    "def compute_cost(X, y, w):\n",
    "    m = len(y)\n",
    "    h = hypothesis(X, w)\n",
    "    loss = (1 / (2 * m)) * np.sum((h - y) ** 2)\n",
    "    return loss"
   ]
  },
  {
   "cell_type": "markdown",
   "metadata": {},
   "source": [
    "3. Один крок градієнтного спуску"
   ]
  },
  {
   "cell_type": "code",
   "execution_count": 8,
   "metadata": {},
   "outputs": [],
   "source": [
    "def gradient_descent_step(X, y, w, learning_rate):\n",
    "    m = len(y)\n",
    "    h = hypothesis(X, w)\n",
    "    gradient = (1 / m) * np.dot(X.T, (h - y))\n",
    "    w = w - learning_rate * gradient\n",
    "    return w"
   ]
  },
  {
   "cell_type": "markdown",
   "metadata": {},
   "source": [
    "4. Hайкращі параметри для датасету прогнозуючу ціну на будинок залежно від площі, кількості ванних кімнат та кількості спалень"
   ]
  },
  {
   "cell_type": "code",
   "execution_count": 13,
   "metadata": {},
   "outputs": [
    {
     "name": "stdout",
     "output_type": "stream",
     "text": [
      "Iteration 0: Cost 61281529619.49851\n",
      "Iteration 100: Cost 8515881456.376406\n",
      "Iteration 200: Cost 1932260095.3258257\n",
      "Iteration 300: Cost 1036332613.5990579\n",
      "Iteration 400: Cost 896063108.0566636\n",
      "Iteration 500: Cost 858254175.6058257\n",
      "Iteration 600: Cost 835422253.8487574\n",
      "Iteration 700: Cost 815765849.076854\n",
      "Iteration 800: Cost 797626918.2849996\n",
      "Iteration 900: Cost 780711468.4436898\n",
      "Параметри, знайдені градієнтним спуском: [337813.98694773  12212.24214169  69146.59771811  40766.95334642]\n"
     ]
    }
   ],
   "source": [
    "# Дані\n",
    "data = {\n",
    "    'Area': [2104, 1416, 1534, 852, 1940, 2000, 1890],\n",
    "    'Bathrooms': [5, 3, 3, 2, 4, 4, 3],\n",
    "    'Bedrooms': [1, 2, 2, 1, 3, 3, 3],\n",
    "    'Price': [399900, 232000, 315000, 178000, 465000, 475000, 299900]\n",
    "}\n",
    "\n",
    "df = pd.DataFrame(data)\n",
    "\n",
    "# Визначення ознак та цільової змінної\n",
    "X = df[['Area', 'Bathrooms', 'Bedrooms']]\n",
    "y = df['Price']\n",
    "\n",
    "# Додавання стовпця одиниць для вільного члена (інтерсепта)\n",
    "X = np.c_[np.ones(X.shape[0]), X]\n",
    "\n",
    "# Ініціалізація параметрів\n",
    "w = np.zeros(X.shape[1])\n",
    "\n",
    "# Параметри градієнтного спуску\n",
    "learning_rate = 0.01\n",
    "iterations = 1000\n",
    "\n",
    "# Масштабування даних (нормалізація)\n",
    "X[:, 1:] = (X[:, 1:] - np.mean(X[:, 1:], axis=0)) / np.std(X[:, 1:], axis=0)\n",
    "\n",
    "# Градієнтний спуск\n",
    "for i in range(iterations):\n",
    "    w = gradient_descent_step(X, y, w, learning_rate)\n",
    "    if i % 100 == 0:\n",
    "        print(f\"Iteration {i}: Cost {compute_cost(X, y, w)}\")\n",
    "\n",
    "print(\"Параметри, знайдені градієнтним спуском:\", w)\n"
   ]
  }
 ],
 "metadata": {
  "kernelspec": {
   "display_name": "myenv",
   "language": "python",
   "name": "python3"
  },
  "language_info": {
   "codemirror_mode": {
    "name": "ipython",
    "version": 3
   },
   "file_extension": ".py",
   "mimetype": "text/x-python",
   "name": "python",
   "nbconvert_exporter": "python",
   "pygments_lexer": "ipython3",
   "version": "3.11.4"
  },
  "orig_nbformat": 4
 },
 "nbformat": 4,
 "nbformat_minor": 2
}
